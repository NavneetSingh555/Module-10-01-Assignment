{
 "cells": [
  {
   "cell_type": "markdown",
   "id": "c7993638-5fc2-4285-941a-7f3f926fa906",
   "metadata": {},
   "source": [
    "Q1. Which keyword is used to create a function? Create a function to return a list of odd numbers in the\n",
    "range of 1 to 25."
   ]
  },
  {
   "cell_type": "markdown",
   "id": "33b9550a-b921-46db-9ccd-57db10cdc937",
   "metadata": {},
   "source": [
    "Ans. def keyword"
   ]
  },
  {
   "cell_type": "code",
   "execution_count": 1,
   "id": "d6007f46-2361-4ff6-9e7e-a80046e71b9d",
   "metadata": {},
   "outputs": [],
   "source": [
    "def odd_num():\n",
    "    l=[]\n",
    "    for i in range(1,26):\n",
    "        if i%2!=0:\n",
    "            l.append(i)\n",
    "    return l\n",
    "            \n",
    "            "
   ]
  },
  {
   "cell_type": "code",
   "execution_count": 2,
   "id": "8d728933-822f-472b-ad30-b9e3277c070b",
   "metadata": {},
   "outputs": [
    {
     "data": {
      "text/plain": [
       "[1, 3, 5, 7, 9, 11, 13, 15, 17, 19, 21, 23, 25]"
      ]
     },
     "execution_count": 2,
     "metadata": {},
     "output_type": "execute_result"
    }
   ],
   "source": [
    "odd_num()"
   ]
  },
  {
   "cell_type": "markdown",
   "id": "11f23588-00a7-465c-9b56-05374e0f04fd",
   "metadata": {},
   "source": [
    "Q2. Why *args and **kwargs is used in some functions? Create a function each for *args and **kwargs to demonstrate their use."
   ]
  },
  {
   "cell_type": "markdown",
   "id": "f992d439-1d43-46e6-929c-2b3539b8d780",
   "metadata": {},
   "source": [
    "*args is used to take multiple linear arguments from user at runtime"
   ]
  },
  {
   "cell_type": "markdown",
   "id": "cf8a9f5f-bfe0-46eb-90ef-ab8d59342c8f",
   "metadata": {},
   "source": [
    "**kwargs is used to take multiple dictionary arguments from user at runtime"
   ]
  },
  {
   "cell_type": "markdown",
   "id": "2e4954c1-5840-475c-ad7e-ca7df01e25e2",
   "metadata": {},
   "source": [
    "*args ==> sum of n numbers using input argument at runtime"
   ]
  },
  {
   "cell_type": "code",
   "execution_count": 3,
   "id": "47cf7c4e-5fd9-4296-bd50-f9a644f0dc1d",
   "metadata": {},
   "outputs": [],
   "source": [
    "def sys(*args):\n",
    "    sum=0\n",
    "    for i in args:\n",
    "        sum=sum+i\n",
    "           \n",
    "    return sum"
   ]
  },
  {
   "cell_type": "code",
   "execution_count": 4,
   "id": "1d57bbfe-3a0c-4d0c-9f3c-6870fcedf535",
   "metadata": {},
   "outputs": [
    {
     "data": {
      "text/plain": [
       "6"
      ]
     },
     "execution_count": 4,
     "metadata": {},
     "output_type": "execute_result"
    }
   ],
   "source": [
    "sys(2,4)"
   ]
  },
  {
   "cell_type": "code",
   "execution_count": 5,
   "id": "ebfe586a-d922-4ae8-814a-1e8bda76f78b",
   "metadata": {},
   "outputs": [
    {
     "data": {
      "text/plain": [
       "14"
      ]
     },
     "execution_count": 5,
     "metadata": {},
     "output_type": "execute_result"
    }
   ],
   "source": [
    "sys(3,5,6)"
   ]
  },
  {
   "cell_type": "markdown",
   "id": "1e4a0971-c7b3-4a26-942e-3f0ca360230d",
   "metadata": {},
   "source": [
    "ex-**kwargs ==> append a dictionary in the list on converting the assignment statement into dictionary "
   ]
  },
  {
   "cell_type": "code",
   "execution_count": 6,
   "id": "d29b6877-6bbc-49f0-a53e-6add83cdcf10",
   "metadata": {},
   "outputs": [],
   "source": [
    "def dict(**kwargs):\n",
    "    l=[]\n",
    "    l.append(kwargs)\n",
    "    return l"
   ]
  },
  {
   "cell_type": "code",
   "execution_count": 7,
   "id": "0481c7bf-301b-4608-805d-38d72357a68a",
   "metadata": {},
   "outputs": [
    {
     "data": {
      "text/plain": [
       "[{'b': 3}]"
      ]
     },
     "execution_count": 7,
     "metadata": {},
     "output_type": "execute_result"
    }
   ],
   "source": [
    "dict(b=3)"
   ]
  },
  {
   "cell_type": "code",
   "execution_count": 8,
   "id": "dfa0b838-652e-4636-a68a-e8f8d7f84ad8",
   "metadata": {},
   "outputs": [
    {
     "data": {
      "text/plain": [
       "[{'c': 2, 'd': 'nav', 'e': 'singh'}]"
      ]
     },
     "execution_count": 8,
     "metadata": {},
     "output_type": "execute_result"
    }
   ],
   "source": [
    "dict(c=2,d=\"nav\",e=\"singh\")"
   ]
  },
  {
   "cell_type": "markdown",
   "id": "b139c28c-8b1e-4b64-ada4-91e03261f690",
   "metadata": {},
   "source": [
    "Q3. What is an iterator in python? Name the method used to initialise the iterator object and the method\n",
    "used for iteration. Use these methods to print the first five elements of the given list [2, 4, 6, 8, 10, 12, 14,\n",
    "16, 18, 20]."
   ]
  },
  {
   "cell_type": "markdown",
   "id": "195d0b2c-2e1d-4e71-b890-56bc216a3d32",
   "metadata": {},
   "source": [
    "Ans. Iterator is an object which is used to traverse the elements of iterable object one by one."
   ]
  },
  {
   "cell_type": "markdown",
   "id": "46c6756f-e58c-4744-8fdf-f79388bc5c3a",
   "metadata": {},
   "source": [
    "iter() ==> to initialise the iterator object"
   ]
  },
  {
   "cell_type": "markdown",
   "id": "0b8759f2-51e2-4f42-b53e-52289867016d",
   "metadata": {},
   "source": [
    "next() ==> used for iteration"
   ]
  },
  {
   "cell_type": "code",
   "execution_count": 9,
   "id": "105af96b-3236-4e6c-9ca7-a6f9d8b022cc",
   "metadata": {},
   "outputs": [],
   "source": [
    "l=[2, 4, 6, 8, 10, 12, 14, 16, 18, 20]\n"
   ]
  },
  {
   "cell_type": "code",
   "execution_count": 10,
   "id": "03a90bc9-cff3-425f-b1d8-18e8da18d9e9",
   "metadata": {},
   "outputs": [],
   "source": [
    "l1=iter(l)"
   ]
  },
  {
   "cell_type": "code",
   "execution_count": 11,
   "id": "8111242b-b114-49f3-b568-39a9d9d290a3",
   "metadata": {},
   "outputs": [
    {
     "data": {
      "text/plain": [
       "2"
      ]
     },
     "execution_count": 11,
     "metadata": {},
     "output_type": "execute_result"
    }
   ],
   "source": [
    "next(l1)"
   ]
  },
  {
   "cell_type": "code",
   "execution_count": 12,
   "id": "7d1d5534-b869-42aa-b843-d9544255109d",
   "metadata": {},
   "outputs": [
    {
     "data": {
      "text/plain": [
       "4"
      ]
     },
     "execution_count": 12,
     "metadata": {},
     "output_type": "execute_result"
    }
   ],
   "source": [
    "next(l1)"
   ]
  },
  {
   "cell_type": "code",
   "execution_count": 14,
   "id": "40f1bb26-63f0-4c3f-a5d9-48f502117a21",
   "metadata": {},
   "outputs": [
    {
     "data": {
      "text/plain": [
       "8"
      ]
     },
     "execution_count": 14,
     "metadata": {},
     "output_type": "execute_result"
    }
   ],
   "source": [
    "next(l1)"
   ]
  },
  {
   "cell_type": "code",
   "execution_count": 15,
   "id": "2f31f8b5-4458-435b-8a5d-da722e8a40f5",
   "metadata": {},
   "outputs": [
    {
     "data": {
      "text/plain": [
       "10"
      ]
     },
     "execution_count": 15,
     "metadata": {},
     "output_type": "execute_result"
    }
   ],
   "source": [
    "next(l1)"
   ]
  },
  {
   "cell_type": "markdown",
   "id": "b3a96e4d-252c-4751-9a11-5111f54ef637",
   "metadata": {},
   "source": [
    "Q4. What is a generator function in python? Why yield keyword is used? Give an example of a generator\n",
    "function."
   ]
  },
  {
   "cell_type": "markdown",
   "id": "16b1ae48-192a-4be3-9588-24afcf971a10",
   "metadata": {},
   "source": [
    "Ans. generator function is a special type of function which generate the output one by one through yield keyword and leaves the memory of previous generated output.Yield keyword is used to generate the output one by one "
   ]
  },
  {
   "cell_type": "code",
   "execution_count": 20,
   "id": "b001baec-92f3-4978-a2db-c207d8161d48",
   "metadata": {},
   "outputs": [],
   "source": [
    "#generate fibonacci series\n",
    "def fib(n):\n",
    "    a,b=0,1\n",
    "    for i in range(10):\n",
    "        yield a\n",
    "        a , b = b , a+b\n"
   ]
  },
  {
   "cell_type": "code",
   "execution_count": 21,
   "id": "302dcb09-ec44-4d1e-a1ae-f3fb45e8a146",
   "metadata": {},
   "outputs": [],
   "source": [
    "s=fib(10)"
   ]
  },
  {
   "cell_type": "code",
   "execution_count": 22,
   "id": "72be331a-5d8e-4f38-8d27-bff5afa70b8a",
   "metadata": {},
   "outputs": [
    {
     "name": "stdout",
     "output_type": "stream",
     "text": [
      "0\n",
      "1\n",
      "1\n",
      "2\n",
      "3\n",
      "5\n",
      "8\n",
      "13\n",
      "21\n",
      "34\n"
     ]
    }
   ],
   "source": [
    "for i in s:\n",
    "    print(i)"
   ]
  },
  {
   "cell_type": "markdown",
   "id": "a6c29085-4400-4cc2-bd9f-d178ca8b8e98",
   "metadata": {},
   "source": [
    "Q5. Create a generator function for prime numbers less than 1000. Use the next() method to print the\n",
    "first 20 prime numbers."
   ]
  },
  {
   "cell_type": "code",
   "execution_count": 13,
   "id": "f6976be1-c4db-4c08-8e03-4ebbb8ce0ee7",
   "metadata": {},
   "outputs": [],
   "source": [
    "def prime():\n",
    "    for n in range(1,1000):\n",
    "        if n==1:\n",
    "            pass\n",
    "        elif n==2:\n",
    "            yield n\n",
    "        else:\n",
    "            for i in range(2,n):\n",
    "                if n%i==0:\n",
    "                    break\n",
    "            else:\n",
    "                yield n\n",
    "        \n",
    "    "
   ]
  },
  {
   "cell_type": "code",
   "execution_count": 14,
   "id": "baae9e5f-ffac-46c9-9184-32ac7225e7d5",
   "metadata": {},
   "outputs": [
    {
     "data": {
      "text/plain": [
       "<generator object prime at 0x7f73a9c42260>"
      ]
     },
     "execution_count": 14,
     "metadata": {},
     "output_type": "execute_result"
    }
   ],
   "source": [
    "prime()"
   ]
  },
  {
   "cell_type": "code",
   "execution_count": 15,
   "id": "6f166085-1fb6-446a-b3c9-40698eda0cf8",
   "metadata": {},
   "outputs": [],
   "source": [
    "l = iter(list(prime()))\n",
    "# l= list(prime())"
   ]
  },
  {
   "cell_type": "code",
   "execution_count": 16,
   "id": "fbb784db-5a5f-4522-b051-fc1599107baa",
   "metadata": {},
   "outputs": [
    {
     "data": {
      "text/plain": [
       "2"
      ]
     },
     "execution_count": 16,
     "metadata": {},
     "output_type": "execute_result"
    }
   ],
   "source": [
    "# n=1\n",
    "# while n<=20:\n",
    "#     next(l)      # this loop is not give ans \n",
    "#     n=n+1\n",
    "next(l)"
   ]
  },
  {
   "cell_type": "markdown",
   "id": "7bbb0ea1-e6c1-4095-9d31-13ad717c5f1c",
   "metadata": {},
   "source": [
    "Q6. Write a python program to print the first 10 Fibonacci numbers using a while loop."
   ]
  },
  {
   "cell_type": "code",
   "execution_count": 28,
   "id": "c5e2ab9c-2b7b-43a2-92a4-4a34bf59d674",
   "metadata": {},
   "outputs": [
    {
     "name": "stdout",
     "output_type": "stream",
     "text": [
      "0\n",
      "1\n",
      "1\n",
      "2\n",
      "3\n",
      "5\n",
      "8\n",
      "13\n",
      "21\n",
      "34\n"
     ]
    }
   ],
   "source": [
    "# fibonacci series\n",
    "a,b=0,1\n",
    "n=1\n",
    "while n<=10:\n",
    "    print(a)\n",
    "    a,b = b,a+b\n",
    "    n=n+1"
   ]
  },
  {
   "cell_type": "markdown",
   "id": "5f2d00b5-b675-4b04-b99e-65fa7def13ec",
   "metadata": {},
   "source": [
    "Q7. Write a List Comprehension to iterate through the given string: ‘pwskills’.\n",
    "Expected output: ['p', 'w', 's', 'k', 'i', 'l', 'l', 's']"
   ]
  },
  {
   "cell_type": "code",
   "execution_count": 30,
   "id": "c0a2b09b-a982-4504-ab57-f565384b1cbb",
   "metadata": {},
   "outputs": [],
   "source": [
    "s=\"pwskills\""
   ]
  },
  {
   "cell_type": "code",
   "execution_count": 31,
   "id": "8f05a5b8-090c-4d55-a8f4-24576ca512a9",
   "metadata": {},
   "outputs": [
    {
     "data": {
      "text/plain": [
       "['p', 'w', 's', 'k', 'i', 'l', 'l', 's']"
      ]
     },
     "execution_count": 31,
     "metadata": {},
     "output_type": "execute_result"
    }
   ],
   "source": [
    "[s[i] for i in range(len(s))]"
   ]
  },
  {
   "cell_type": "markdown",
   "id": "b3dfed7d-2847-4fbf-9680-60d0fb57c220",
   "metadata": {},
   "source": [
    "Q8. Write a python program to check whether a given number is Palindrome or not using a while loop."
   ]
  },
  {
   "cell_type": "code",
   "execution_count": 40,
   "id": "824c438c-1dee-4903-a7b7-b63d1e729d8a",
   "metadata": {},
   "outputs": [
    {
     "name": "stdin",
     "output_type": "stream",
     "text": [
      "enter the no. 232\n"
     ]
    },
    {
     "name": "stdout",
     "output_type": "stream",
     "text": [
      "palindrone\n"
     ]
    }
   ],
   "source": [
    "n=int(input(\"enter the no.\"))\n",
    "sum = 0\n",
    "num=n\n",
    "if n>0:\n",
    "    while n!=0:\n",
    "        last_digit = n%10\n",
    "        sum = sum * 10 + last_digit\n",
    "        n=n//10\n",
    "\n",
    "    if sum==num:\n",
    "        print(\"palindrone\")\n",
    "    else:\n",
    "        print(\"not palindrone\")\n",
    "\n",
    "else:\n",
    "    print(\"enter positive no.\")\n",
    "\n",
    "    "
   ]
  },
  {
   "cell_type": "markdown",
   "id": "18922865-c4ca-4982-9005-9c92a7a109e1",
   "metadata": {},
   "source": [
    "Q9. Write a code to print odd numbers from 1 to 100 using list comprehension."
   ]
  },
  {
   "cell_type": "markdown",
   "id": "0f4f4f67-675d-4819-be40-ad0cd5afb71c",
   "metadata": {},
   "source": [
    "Note: Use a list comprehension to create a list from 1 to 100 and use another List comprehension to filter\n",
    "out odd numbers."
   ]
  },
  {
   "cell_type": "code",
   "execution_count": 41,
   "id": "925d55ac-dcb0-49af-b761-2997b8a27c9a",
   "metadata": {},
   "outputs": [],
   "source": [
    "a=[i for i in range(1,101)]"
   ]
  },
  {
   "cell_type": "code",
   "execution_count": 42,
   "id": "49bc2df4-a03f-414b-8bad-9978a515847e",
   "metadata": {},
   "outputs": [
    {
     "data": {
      "text/plain": [
       "[1,\n",
       " 2,\n",
       " 3,\n",
       " 4,\n",
       " 5,\n",
       " 6,\n",
       " 7,\n",
       " 8,\n",
       " 9,\n",
       " 10,\n",
       " 11,\n",
       " 12,\n",
       " 13,\n",
       " 14,\n",
       " 15,\n",
       " 16,\n",
       " 17,\n",
       " 18,\n",
       " 19,\n",
       " 20,\n",
       " 21,\n",
       " 22,\n",
       " 23,\n",
       " 24,\n",
       " 25,\n",
       " 26,\n",
       " 27,\n",
       " 28,\n",
       " 29,\n",
       " 30,\n",
       " 31,\n",
       " 32,\n",
       " 33,\n",
       " 34,\n",
       " 35,\n",
       " 36,\n",
       " 37,\n",
       " 38,\n",
       " 39,\n",
       " 40,\n",
       " 41,\n",
       " 42,\n",
       " 43,\n",
       " 44,\n",
       " 45,\n",
       " 46,\n",
       " 47,\n",
       " 48,\n",
       " 49,\n",
       " 50,\n",
       " 51,\n",
       " 52,\n",
       " 53,\n",
       " 54,\n",
       " 55,\n",
       " 56,\n",
       " 57,\n",
       " 58,\n",
       " 59,\n",
       " 60,\n",
       " 61,\n",
       " 62,\n",
       " 63,\n",
       " 64,\n",
       " 65,\n",
       " 66,\n",
       " 67,\n",
       " 68,\n",
       " 69,\n",
       " 70,\n",
       " 71,\n",
       " 72,\n",
       " 73,\n",
       " 74,\n",
       " 75,\n",
       " 76,\n",
       " 77,\n",
       " 78,\n",
       " 79,\n",
       " 80,\n",
       " 81,\n",
       " 82,\n",
       " 83,\n",
       " 84,\n",
       " 85,\n",
       " 86,\n",
       " 87,\n",
       " 88,\n",
       " 89,\n",
       " 90,\n",
       " 91,\n",
       " 92,\n",
       " 93,\n",
       " 94,\n",
       " 95,\n",
       " 96,\n",
       " 97,\n",
       " 98,\n",
       " 99,\n",
       " 100]"
      ]
     },
     "execution_count": 42,
     "metadata": {},
     "output_type": "execute_result"
    }
   ],
   "source": [
    "a"
   ]
  },
  {
   "cell_type": "code",
   "execution_count": 43,
   "id": "cd713a7f-696f-4c0b-8db2-0aefaf461bdb",
   "metadata": {},
   "outputs": [
    {
     "data": {
      "text/plain": [
       "[1,\n",
       " 3,\n",
       " 5,\n",
       " 7,\n",
       " 9,\n",
       " 11,\n",
       " 13,\n",
       " 15,\n",
       " 17,\n",
       " 19,\n",
       " 21,\n",
       " 23,\n",
       " 25,\n",
       " 27,\n",
       " 29,\n",
       " 31,\n",
       " 33,\n",
       " 35,\n",
       " 37,\n",
       " 39,\n",
       " 41,\n",
       " 43,\n",
       " 45,\n",
       " 47,\n",
       " 49,\n",
       " 51,\n",
       " 53,\n",
       " 55,\n",
       " 57,\n",
       " 59,\n",
       " 61,\n",
       " 63,\n",
       " 65,\n",
       " 67,\n",
       " 69,\n",
       " 71,\n",
       " 73,\n",
       " 75,\n",
       " 77,\n",
       " 79,\n",
       " 81,\n",
       " 83,\n",
       " 85,\n",
       " 87,\n",
       " 89,\n",
       " 91,\n",
       " 93,\n",
       " 95,\n",
       " 97,\n",
       " 99]"
      ]
     },
     "execution_count": 43,
     "metadata": {},
     "output_type": "execute_result"
    }
   ],
   "source": [
    "[i for i in a if i%2==1]"
   ]
  },
  {
   "cell_type": "code",
   "execution_count": 1,
   "id": "8285d93a-3e97-493b-9ec2-7f99a24526b8",
   "metadata": {},
   "outputs": [
    {
     "data": {
      "text/plain": [
       "4"
      ]
     },
     "execution_count": 1,
     "metadata": {},
     "output_type": "execute_result"
    }
   ],
   "source": [
    "4"
   ]
  },
  {
   "cell_type": "code",
   "execution_count": null,
   "id": "610a88b2-6c90-4824-962d-2874bbd9f9b2",
   "metadata": {},
   "outputs": [],
   "source": []
  }
 ],
 "metadata": {
  "kernelspec": {
   "display_name": "Python 3 (ipykernel)",
   "language": "python",
   "name": "python3"
  },
  "language_info": {
   "codemirror_mode": {
    "name": "ipython",
    "version": 3
   },
   "file_extension": ".py",
   "mimetype": "text/x-python",
   "name": "python",
   "nbconvert_exporter": "python",
   "pygments_lexer": "ipython3",
   "version": "3.10.8"
  }
 },
 "nbformat": 4,
 "nbformat_minor": 5
}
